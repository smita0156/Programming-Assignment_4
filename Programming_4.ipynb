{
 "cells": [
  {
   "cell_type": "code",
   "execution_count": null,
   "id": "abf6115c-55bc-482e-9fac-efcd9e2a0757",
   "metadata": {},
   "outputs": [],
   "source": [
    "1. Write a Python Program to Find the Factorial of a Number?"
   ]
  },
  {
   "cell_type": "code",
   "execution_count": 1,
   "id": "fbf1db87-bd10-433f-a4e5-84b7958491ad",
   "metadata": {},
   "outputs": [
    {
     "name": "stdin",
     "output_type": "stream",
     "text": [
      "Enter a Number  7\n"
     ]
    },
    {
     "name": "stdout",
     "output_type": "stream",
     "text": [
      "Factorial of 7 is 5040\n"
     ]
    }
   ],
   "source": [
    "#answer\n",
    "x = int(input(\"Enter a Number \"))\n",
    "factorial = 1\n",
    "if x < 0:\n",
    "    print(\"Can not calculate Factorial of a negative number\")\n",
    "elif x == 0:\n",
    "    print(\"Factorial of zero is 1\")\n",
    "else:\n",
    "    for i in range(1,x+1):\n",
    "        factorial = factorial * i\n",
    "print(\"Factorial of {} is {}\".format(x, factorial))"
   ]
  },
  {
   "cell_type": "code",
   "execution_count": null,
   "id": "27d4930a-fd15-411a-8acf-bd360beb4cc2",
   "metadata": {},
   "outputs": [],
   "source": [
    "2. Write a Python Program to Display the multiplication Table?"
   ]
  },
  {
   "cell_type": "code",
   "execution_count": 2,
   "id": "2b004279-98c9-4912-9ead-4156f2b53887",
   "metadata": {},
   "outputs": [
    {
     "name": "stdin",
     "output_type": "stream",
     "text": [
      "Enter a no for Table 3\n"
     ]
    },
    {
     "name": "stdout",
     "output_type": "stream",
     "text": [
      "Multiplication table for 3\n",
      "3 x 1 = 3\n",
      "3 x 2 = 6\n",
      "3 x 3 = 9\n",
      "3 x 4 = 12\n",
      "3 x 5 = 15\n",
      "3 x 6 = 18\n",
      "3 x 7 = 21\n",
      "3 x 8 = 24\n",
      "3 x 9 = 27\n",
      "3 x 10 = 30\n"
     ]
    }
   ],
   "source": [
    "#answer\n",
    "x = int(input(\"Enter a no for Table\"))\n",
    "print(\"Multiplication table for\",x)\n",
    "for i in range(1,11):\n",
    "    print(\"{} x {} = {}\".format(x , i , x*i))"
   ]
  },
  {
   "cell_type": "code",
   "execution_count": null,
   "id": "0a39b037-4a04-498e-85a3-708de2514ecd",
   "metadata": {},
   "outputs": [],
   "source": [
    "3. Write a Python Program to Print the Fibonacci sequence?"
   ]
  },
  {
   "cell_type": "code",
   "execution_count": 3,
   "id": "170f5fc1-b5d2-4613-b417-d96ae6c52bc6",
   "metadata": {},
   "outputs": [],
   "source": [
    "# Fibonacci series - > 1, 1, 2, 3, 5,8,13........\n",
    "def genfib(n):\n",
    "    a =1\n",
    "    b= 1\n",
    "    l =[]\n",
    "    for i in range(n):\n",
    "        l.append(a)\n",
    "        a , b = b , a+b\n",
    "    return l  \n",
    "    \n",
    "    "
   ]
  },
  {
   "cell_type": "code",
   "execution_count": 4,
   "id": "9a323798-a798-45f4-9b06-20ba45ceec78",
   "metadata": {},
   "outputs": [
    {
     "data": {
      "text/plain": [
       "[1, 1, 2, 3, 5, 8]"
      ]
     },
     "execution_count": 4,
     "metadata": {},
     "output_type": "execute_result"
    }
   ],
   "source": [
    "genfib(6)"
   ]
  },
  {
   "cell_type": "code",
   "execution_count": null,
   "id": "5c2ecd02-bf13-4640-a518-c3c1666ed4a6",
   "metadata": {},
   "outputs": [],
   "source": [
    "4. Write a Python Program to Check Armstrong Number?"
   ]
  },
  {
   "cell_type": "code",
   "execution_count": 5,
   "id": "7c911142-f723-4361-b93e-e4ee2ebffeba",
   "metadata": {},
   "outputs": [
    {
     "name": "stdin",
     "output_type": "stream",
     "text": [
      "Enter the number :  150\n"
     ]
    },
    {
     "name": "stdout",
     "output_type": "stream",
     "text": [
      "Not an armstrong number\n"
     ]
    }
   ],
   "source": [
    "#answer\n",
    "x = int(input(\"Enter the number : \"))\n",
    "\n",
    "power = len(str(x))\n",
    "\n",
    "y = x\n",
    "sum = 0\n",
    "while y > 0:\n",
    "    digit = y % 10\n",
    "    sum = sum + digit ** power\n",
    "    y = y//10\n",
    "if x == sum :\n",
    "    print(\"Number is armstrong number\")\n",
    "else:\n",
    "    print(\"Not an armstrong number\")"
   ]
  },
  {
   "cell_type": "code",
   "execution_count": null,
   "id": "3afc320a-3496-4767-b0f2-df44db8dc1e3",
   "metadata": {},
   "outputs": [],
   "source": [
    "5. Write a Python Program to Find Armstrong Number in an Interval?"
   ]
  },
  {
   "cell_type": "code",
   "execution_count": 6,
   "id": "0bb16d17-5694-4bc9-97f7-b3362c240f09",
   "metadata": {},
   "outputs": [
    {
     "name": "stdin",
     "output_type": "stream",
     "text": [
      "Low no :  100\n",
      "Up no :  1000\n"
     ]
    },
    {
     "name": "stdout",
     "output_type": "stream",
     "text": [
      "153\n",
      "370\n",
      "371\n",
      "407\n"
     ]
    }
   ],
   "source": [
    "#answer\n",
    "## Find Armstrong Number in an Interval\n",
    "x = int(input(\"Low no : \"))\n",
    "y = int(input(\"Up no : \"))\n",
    "\n",
    "\n",
    "for i in range(x,y+1):\n",
    "    power = len(str(i))\n",
    "    temp = i\n",
    "    sum = 0\n",
    "    while temp > 0:\n",
    "        digit = temp % 10\n",
    "        sum = sum + digit ** power\n",
    "        temp = temp//10\n",
    "    if i == sum :\n",
    "        print(i)"
   ]
  },
  {
   "cell_type": "code",
   "execution_count": null,
   "id": "807aec26-3dbf-4264-97b7-5a39038a4b20",
   "metadata": {},
   "outputs": [],
   "source": [
    "6. Write a Python Program to Find the Sum of Natural Numbers?"
   ]
  },
  {
   "cell_type": "code",
   "execution_count": 7,
   "id": "47b9f042-0ed7-42fa-b0e5-22d48a5922a2",
   "metadata": {},
   "outputs": [
    {
     "name": "stdin",
     "output_type": "stream",
     "text": [
      "enter the number :  4\n"
     ]
    },
    {
     "name": "stdout",
     "output_type": "stream",
     "text": [
      "Sum of natural numbers upto 4 is 10\n"
     ]
    }
   ],
   "source": [
    "#answer\n",
    "x = int(input(\"enter the number : \"))\n",
    "\n",
    "sum = 0\n",
    "for i in range(0,x+1):\n",
    "    sum+=i\n",
    "print(\"Sum of natural numbers upto {} is {}\".format(x,sum))"
   ]
  }
 ],
 "metadata": {
  "kernelspec": {
   "display_name": "Python 3 (ipykernel)",
   "language": "python",
   "name": "python3"
  },
  "language_info": {
   "codemirror_mode": {
    "name": "ipython",
    "version": 3
   },
   "file_extension": ".py",
   "mimetype": "text/x-python",
   "name": "python",
   "nbconvert_exporter": "python",
   "pygments_lexer": "ipython3",
   "version": "3.10.6"
  }
 },
 "nbformat": 4,
 "nbformat_minor": 5
}
